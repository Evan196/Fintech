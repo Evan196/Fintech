{
 "cells": [
  {
   "cell_type": "markdown",
   "metadata": {},
   "source": [
    "## Homework 1\n",
    "\n",
    "Please submit on Canvas no later than 9:00 a.m. on Saturday, 29 Feb. \n",
    "Please work in this notebook, then save it and submit it. \n",
    "No need for any other files. "
   ]
  },
  {
   "cell_type": "code",
   "execution_count": null,
   "metadata": {
    "collapsed": true
   },
   "outputs": [],
   "source": [
    "# I. write a Python program which prompts the user to type his or her first and   \n",
    "#  last names, and then prints \"Hello\" and the names, starting with the last \n",
    "#  name. If the user is Jane Zhang, the output will be \"Hello Zhang Jane\""
   ]
  },
  {
   "cell_type": "code",
   "execution_count": null,
   "metadata": {
    "collapsed": true
   },
   "outputs": [],
   "source": [
    "# II. write a Python function that moves the first digit in an integer \n",
    "#   to the very end. For example: 273456372 becomes 734563722\n"
   ]
  },
  {
   "cell_type": "code",
   "execution_count": null,
   "metadata": {
    "collapsed": true
   },
   "outputs": [],
   "source": [
    "# III. If n is an integer, describe in few words what is the function below doing? \n",
    "\n",
    "def some_func(n):\n",
    "    s1 = ''\n",
    "    s2 = ''\n",
    "    h  = list(str(n))       \n",
    "    for i in h:\n",
    "        if i == '0':\n",
    "            s1 += i\n",
    "        else:\n",
    "            s2 += i\n",
    "\n",
    "    return int(s2+s1)        \n"
   ]
  },
  {
   "cell_type": "code",
   "execution_count": 1,
   "metadata": {},
   "outputs": [],
   "source": [
    "# IV. write a Python function that takes an integer and puts all digits that are\n",
    "# greater than 5 at the beginning of this integer, but otherwise preserves the \n",
    "# order of the digits. For example: 174826349 becomes 786914234\n",
    "\n"
   ]
  },
  {
   "cell_type": "code",
   "execution_count": null,
   "metadata": {
    "collapsed": true
   },
   "outputs": [],
   "source": [
    "# here are some websites with many questions for practice, if you are interested:\n",
    "\n",
    "# https://codingbat.com/prob/p194053\n",
    "# https://www.practicepython.org/\n",
    "# https://www.w3resource.com/python-exercises/"
   ]
  },
  {
   "cell_type": "code",
   "execution_count": null,
   "metadata": {
    "collapsed": true
   },
   "outputs": [],
   "source": []
  }
 ],
 "metadata": {
  "kernelspec": {
   "display_name": "Python 3",
   "language": "python",
   "name": "python3"
  },
  "language_info": {
   "codemirror_mode": {
    "name": "ipython",
    "version": 3
   },
   "file_extension": ".py",
   "mimetype": "text/x-python",
   "name": "python",
   "nbconvert_exporter": "python",
   "pygments_lexer": "ipython3",
   "version": "3.7.4"
  }
 },
 "nbformat": 4,
 "nbformat_minor": 2
}
