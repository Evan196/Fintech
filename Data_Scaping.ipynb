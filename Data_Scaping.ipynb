{
 "cells": [
  {
   "cell_type": "code",
   "execution_count": 1,
   "metadata": {},
   "outputs": [],
   "source": [
    "# Q1. Write a Python function that takes a letter and returns True if this letter is\n",
    "#  a vowel. Otherwise it returns false. The vowels in English are a, e, i, o, u \n"
   ]
  },
  {
   "cell_type": "markdown",
   "metadata": {},
   "source": [
    "##### Q1 method 1"
   ]
  },
  {
   "cell_type": "code",
   "execution_count": 490,
   "metadata": {},
   "outputs": [
    {
     "name": "stdin",
     "output_type": "stream",
     "text": [
      "letter:  A\n"
     ]
    },
    {
     "name": "stdout",
     "output_type": "stream",
     "text": [
      "True\n"
     ]
    }
   ],
   "source": [
    "temp = (input (\"letter: \"))\n",
    "\n",
    "vowel = ['a','e','i','o','u']\n",
    "\n",
    "def vowel_check(temp):\n",
    "    if temp.lower() in vowel:\n",
    "        return True\n",
    "    return False\n",
    "\n",
    "print(vowel_check(temp))"
   ]
  },
  {
   "cell_type": "markdown",
   "metadata": {},
   "source": [
    "##### Q1 method 2"
   ]
  },
  {
   "cell_type": "code",
   "execution_count": 491,
   "metadata": {},
   "outputs": [
    {
     "name": "stdin",
     "output_type": "stream",
     "text": [
      "letter2:  B\n"
     ]
    },
    {
     "name": "stdout",
     "output_type": "stream",
     "text": [
      "False\n"
     ]
    }
   ],
   "source": [
    "temp = (input (\"letter2: \"))\n",
    "\n",
    "def vowel_check2(temp):\n",
    "    return temp.lower() in vowel\n",
    "\n",
    "print(vowel_check2(temp))"
   ]
  },
  {
   "cell_type": "code",
   "execution_count": 2,
   "metadata": {},
   "outputs": [],
   "source": [
    "# Q2. Write a Python function that takes a list of numbers and counts how many \n",
    "#   times the number 4 appears in this list. "
   ]
  },
  {
   "cell_type": "markdown",
   "metadata": {},
   "source": [
    "##### Q2"
   ]
  },
  {
   "cell_type": "code",
   "execution_count": 4,
   "metadata": {},
   "outputs": [
    {
     "name": "stdout",
     "output_type": "stream",
     "text": [
      "7\n"
     ]
    }
   ],
   "source": [
    "target = [1,2,3,4,14,244,3444] \n",
    "\n",
    "def count_nm(temp): \n",
    "    s = 0\n",
    "    for i in str(temp): \n",
    "        if i == '4': \n",
    "            s = s + 1\n",
    "    return s\n",
    "print(count_nm(target))"
   ]
  },
  {
   "cell_type": "code",
   "execution_count": 3,
   "metadata": {},
   "outputs": [],
   "source": [
    "# Q3. Write a Python function that finds the length of the second last word in\n",
    "#   a sentence. If the sentence is \"Once upon a time in Shanghai\", the function \n",
    "#   returns 2, for \"in\""
   ]
  },
  {
   "cell_type": "markdown",
   "metadata": {},
   "source": [
    "##### Q3"
   ]
  },
  {
   "cell_type": "code",
   "execution_count": 7,
   "metadata": {},
   "outputs": [
    {
     "name": "stdout",
     "output_type": "stream",
     "text": [
      "2\n"
     ]
    }
   ],
   "source": [
    "target =\"Once upon a time in Shanghai\"\n",
    "\n",
    "def length_text(temp):\n",
    "        s = temp.split()\n",
    "        if len(s) > 0:\n",
    "            return len(s[-2])\n",
    "        return False\n",
    "\n",
    "print(length_text(target))"
   ]
  },
  {
   "cell_type": "code",
   "execution_count": 4,
   "metadata": {},
   "outputs": [],
   "source": [
    "# The variable 'b' in the next cell containst the speech by the Chief Executive, \n",
    "# Mrs Carrie Lam, at the 2018 Hong Kong Fintech week\n",
    "\n",
    "# No need for you to use BeautifulSoup, I have done most of the cleaning.\n",
    "# Now you have one long string, all words with small letters. \n",
    "# But you will need to deal with the fullstops and comas.\n",
    "\n",
    "# Q4. Find which are the ten words that are most often used in this speech?"
   ]
  },
  {
   "cell_type": "markdown",
   "metadata": {},
   "source": [
    "##### Q4"
   ]
  },
  {
   "cell_type": "code",
   "execution_count": 2,
   "metadata": {},
   "outputs": [],
   "source": [
    "b=\"ladies and gentlemen,  good evening. i'm pleased to be here this evening for the launch reception of hong kong fintech week 2018.  the fintech week is still some six weeks away, so i must say i'm delighted with the turnout this evening, with so many of you from different areas of our flourishing fintech community as well as from banking and financial services in general joining us. your presence this evening is a clear reflection of the holistic approach the industry and its investors, together with the institutions, the regulators and this government, are taking when it comes to the development of fintech. it also shows that we are all aware of the importance and the long-term promise that fintech can offer us all.  technology is leading the world into a new era, bringing with it a dramatic shift in the global economy. how we do business, how we interact with our customers, our communities, our family and our friends, and in general how we live our lives are being transformed by technology. the financial services sector is no exception. it is being rewired to keep pace with our everyday lives, furnishing retailers and consumers with the electronic means to buy and sell with unprecedented ease and speed. we can now make payments through a wide array of electronic means, with or without a physical card. we can remit money across the globe with a tap of our fingers, with the intended recipients getting the cash almost instantly. we have e-wallets, mobile phone wallets, etc. here in hong kong and around the world. technology is also helping companies, especially smes, trade and do business, saving time and papers in the process. those of you who have the chance to visit the mainland of china in recent years would know what a cashless society is like, and the convenience it brings.  my government has targeted fintech as a key technology area to focus on and invest in. fintech is a natural evolution for hong kong, one of the world's leading international financial centres and among the world's most competitive economies. we are blessed with a strategic location and growing economic integration with mainland china. we are also having a highly enabling and efficient information and communications technology sector, a vigorous financial regulatory framework and the rule of law.  and let's not forget our deep pool of talent in financial and professional services as well as in our research expertise and our tertiary institutions. last year, the chinese university of hong kong introduced a new, four-year undergraduate programme in fintech. and just a few months ago, the university of hong kong launched asia's first fintech open online course, with the support of australia's university of new south wales and a variety of industry leaders.  we are determined to rise as the region's and one of the world's fintech hubs. indeed, that's already happening. for fintech investors, hong kong has become their first choice in east asia outside the mainland. fintech investment here has spiralled in recent years, from about us$108 million in 2015 to us$216 million in 2016, and some us$546 million last year.  to fast-track that marvellous momentum, my government and hong kong's regulators are ready to launch a raft of fintech initiatives. i am told that the hong kong monetary authority (hkma) will very soon begin the long-anticipated faster payment system. it will set in motion full connectivity between banks and stored value facility operators. that means around-the-clock, real-time fund transfer for peer-to-peer and merchant payments. one will only need to register his mobile phone number or email address with a bank or stored value facility account in order to allow payments to be made to him anytime, anywhere.  a common qr code enabling mobile payment is also on the way. a number of stored value facility operators are already providing qr code payments at various locations now. their services have expanded to a variety of chain supermarkets, convenience stores and even some wet markets and taxis. to expand mobile retail payment and provide greater convenience for both merchants and customers, the hong kong monetary authority and the industry have agreed upon a common qr code standard, which will soon be launched publicly.  then there's virtual banking, which is primed to transform the industry. in may, the hkma issued revised guidelines for the authorisation of virtual banks. it has received about 30 virtual bank applications to date, ranging from telecommunications operators and fintech companies to global banks. i understand that the hkma hopes to start granting licences to virtual banks by the first quarter of next year.  an essential element for fintech is talent. last month, we introduced hong kong's first talent list, created to attract talented professionals from around the world. the list focuses on 11 professions and they include specialists in fintech, as well as cyber-security and innovation and technology. we welcome them all with open arms, for we believe that a vibrant mix of local, mainland and overseas talents can keep our fintech ecology connected to the latest ideas and developments of the global fintech landscape and be most conducive to having the next big fintech innovations right here in hong kong.  the government's role in fintech is that of a facilitator. it's our job to lay down the foundation, including building the financial infrastructure for the faster payment system, setting standards for the common qr code, reworking the guidelines to welcome virtual banks and ensuring an abundant supply of talent. we hope that they will help the industry focus on creating fintech solutions for their customers and for our society at large.  we also take up the role of promoter. certainly, hong kong fintech week, in its 3rd edition this year, is a splendid occasion in which to showcase to the world what hong kong has to offer. this year, the fintech week will welcome some 8 000 executives and professionals from about 50 countries and regions, along with more than 200 celebrated speakers. for the first time, a “fast track programme” will be added to facilitate start-ups and international exhibitors to establish their presence in hong kong. in addition, this year's fintech week will serve as an unprecedented cross-boundary event, moving from hong kong to shenzhen on its final day. that will give participants the extraordinary opportunity to visit fintech companies and network with their stakeholders.  the cross-boundary event will be an excellent opportunity to showcase the unique role of hong kong as a conduit to the guangdong-hong kong-macao greater bay area. consisting of nine cities and two special administrative regions and with a population close to 70 million, the greater bay area can offer hong kong a huge market, talent as well as complementary advantages of other cities, which will fuel hong kong's fintech development.  hong kong's participation in the greater bay area development will get a huge boost later this month. as you all know, the high-speed rail linking hong kong to shenzhen, guangzhou and the rest of the mainland of china , with the terminus right here at west kowloon, will begin operation on september 23, which is 11 days from now. we are all looking forward to it, and i encourage you to make use of the high speed train for the shenzhen day event of the fintech week. get a stop at the futian station.  ladies and gentlemen, i wish fintech week 2018 every success, and i wish you a very special evening. thank you very much.\""
   ]
  },
  {
   "cell_type": "code",
   "execution_count": 3,
   "metadata": {},
   "outputs": [
    {
     "data": {
      "text/html": [
       "<div>\n",
       "<style scoped>\n",
       "    .dataframe tbody tr th:only-of-type {\n",
       "        vertical-align: middle;\n",
       "    }\n",
       "\n",
       "    .dataframe tbody tr th {\n",
       "        vertical-align: top;\n",
       "    }\n",
       "\n",
       "    .dataframe thead th {\n",
       "        text-align: right;\n",
       "    }\n",
       "</style>\n",
       "<table border=\"1\" class=\"dataframe\">\n",
       "  <thead>\n",
       "    <tr style=\"text-align: right;\">\n",
       "      <th></th>\n",
       "      <th>Occurrences</th>\n",
       "    </tr>\n",
       "  </thead>\n",
       "  <tbody>\n",
       "    <tr>\n",
       "      <td>the</td>\n",
       "      <td>72</td>\n",
       "    </tr>\n",
       "    <tr>\n",
       "      <td>and</td>\n",
       "      <td>54</td>\n",
       "    </tr>\n",
       "    <tr>\n",
       "      <td>to</td>\n",
       "      <td>40</td>\n",
       "    </tr>\n",
       "    <tr>\n",
       "      <td>of</td>\n",
       "      <td>36</td>\n",
       "    </tr>\n",
       "    <tr>\n",
       "      <td>a</td>\n",
       "      <td>31</td>\n",
       "    </tr>\n",
       "    <tr>\n",
       "      <td>fintech</td>\n",
       "      <td>28</td>\n",
       "    </tr>\n",
       "    <tr>\n",
       "      <td>in</td>\n",
       "      <td>25</td>\n",
       "    </tr>\n",
       "    <tr>\n",
       "      <td>hong</td>\n",
       "      <td>21</td>\n",
       "    </tr>\n",
       "    <tr>\n",
       "      <td>kong</td>\n",
       "      <td>21</td>\n",
       "    </tr>\n",
       "    <tr>\n",
       "      <td>with</td>\n",
       "      <td>20</td>\n",
       "    </tr>\n",
       "  </tbody>\n",
       "</table>\n",
       "</div>"
      ],
      "text/plain": [
       "         Occurrences\n",
       "the               72\n",
       "and               54\n",
       "to                40\n",
       "of                36\n",
       "a                 31\n",
       "fintech           28\n",
       "in                25\n",
       "hong              21\n",
       "kong              21\n",
       "with              20"
      ]
     },
     "execution_count": 3,
     "metadata": {},
     "output_type": "execute_result"
    }
   ],
   "source": [
    "import pandas as pd\n",
    "import re\n",
    "\n",
    "def count_words(s):\n",
    "    s = re.split(r'\\W+',s)\n",
    "    temp = []\n",
    "    for i in set(s):\n",
    "        temp.append(s.count(i))\n",
    "    return pd.DataFrame({'Occurrences':temp},index = set(s))\n",
    "\n",
    "words = count_words(b).nlargest(10,'Occurrences')\n",
    "\n",
    "words"
   ]
  },
  {
   "cell_type": "code",
   "execution_count": 51,
   "metadata": {},
   "outputs": [],
   "source": [
    "# Q5. Extract the titles of the Reuters news on FinTech from the web site:\n",
    "#   https://www.reuters.com/news/archive/RCOMUS_Fintech.\n",
    "# save the output in a .csv file, whith file name \"HW3_GroupXX.csv\"."
   ]
  },
  {
   "cell_type": "markdown",
   "metadata": {},
   "source": [
    "##### Q5 method 1"
   ]
  },
  {
   "cell_type": "code",
   "execution_count": 76,
   "metadata": {},
   "outputs": [],
   "source": [
    "import requests\n",
    "from bs4 import BeautifulSoup\n",
    "\n",
    "temp = requests.get('https://www.reuters.com/news/archive/RCOMUS_Fintech').text                 \n",
    "\n",
    "soup = BeautifulSoup(temp,'html.parser') "
   ]
  },
  {
   "cell_type": "code",
   "execution_count": 77,
   "metadata": {},
   "outputs": [],
   "source": [
    "#title\n",
    "title = soup.find('div',attrs={'class':'news-headline-list'})('h3',attrs={'class':'story-title'})\n",
    "title = [i.contents[-1][9:] for i in title]\n",
    "\n",
    "#date\n",
    "date = soup.find('div',attrs={'class':'news-headline-list'})('span',attrs={'class':'timestamp'})\n",
    "date = [i.text for i in date]\n",
    "\n",
    "#url\n",
    "url = soup.find('div',attrs={'class':'news-headline-list'})('article',attrs={'class':'story'})\n",
    "url = [i.find('a')['href'] for i in url]"
   ]
  },
  {
   "cell_type": "code",
   "execution_count": 78,
   "metadata": {},
   "outputs": [
    {
     "data": {
      "text/html": [
       "<div>\n",
       "<style scoped>\n",
       "    .dataframe tbody tr th:only-of-type {\n",
       "        vertical-align: middle;\n",
       "    }\n",
       "\n",
       "    .dataframe tbody tr th {\n",
       "        vertical-align: top;\n",
       "    }\n",
       "\n",
       "    .dataframe thead th {\n",
       "        text-align: right;\n",
       "    }\n",
       "</style>\n",
       "<table border=\"1\" class=\"dataframe\">\n",
       "  <thead>\n",
       "    <tr style=\"text-align: right;\">\n",
       "      <th></th>\n",
       "      <th>Date</th>\n",
       "      <th>Title</th>\n",
       "      <th>Url</th>\n",
       "    </tr>\n",
       "  </thead>\n",
       "  <tbody>\n",
       "    <tr>\n",
       "      <td>0</td>\n",
       "      <td>2020-03-04</td>\n",
       "      <td>India's top court strikes down RBI banking ban...</td>\n",
       "      <td>/article/us-india-cryptocurrency/indias-top-co...</td>\n",
       "    </tr>\n",
       "    <tr>\n",
       "      <td>1</td>\n",
       "      <td>2020-03-03</td>\n",
       "      <td>Facebook to revamp its digital currency plans:...</td>\n",
       "      <td>/article/us-facebook-cryptocurrency/facebook-t...</td>\n",
       "    </tr>\n",
       "    <tr>\n",
       "      <td>2</td>\n",
       "      <td>2020-03-03</td>\n",
       "      <td>U.S. charges two Chinese nationals with helpin...</td>\n",
       "      <td>/article/us-northkorea-usa-cryptocurrency/u-s-...</td>\n",
       "    </tr>\n",
       "    <tr>\n",
       "      <td>3</td>\n",
       "      <td>2020-03-03</td>\n",
       "      <td>Is it a currency? A commodity? Bitcoin has an ...</td>\n",
       "      <td>/article/us-crypto-currencies/is-it-a-currency...</td>\n",
       "    </tr>\n",
       "    <tr>\n",
       "      <td>4</td>\n",
       "      <td>2020-03-03</td>\n",
       "      <td>\"Sharia fintech\": Startups race to tap Indones...</td>\n",
       "      <td>/article/us-indonesia-digitalpayments-islam/sh...</td>\n",
       "    </tr>\n",
       "    <tr>\n",
       "      <td>5</td>\n",
       "      <td>2020-03-02</td>\n",
       "      <td>Robinhood trading app out of service on day of...</td>\n",
       "      <td>/article/us-fintech-robinhood-trading/robinhoo...</td>\n",
       "    </tr>\n",
       "    <tr>\n",
       "      <td>6</td>\n",
       "      <td>2020-02-28</td>\n",
       "      <td>CoronaCoin: crypto developers seize on coronav...</td>\n",
       "      <td>/article/us-china-health-crypto-currency/coron...</td>\n",
       "    </tr>\n",
       "    <tr>\n",
       "      <td>7</td>\n",
       "      <td>2020-02-27</td>\n",
       "      <td>Fintech venture firm Anthemis raises new $90 m...</td>\n",
       "      <td>/article/us-anthemis-fund/fintech-venture-firm...</td>\n",
       "    </tr>\n",
       "    <tr>\n",
       "      <td>8</td>\n",
       "      <td>2020-02-27</td>\n",
       "      <td>BOJ's Amamiya calls for more scrutiny in issui...</td>\n",
       "      <td>/article/us-japan-economy-boj-digital/bojs-ama...</td>\n",
       "    </tr>\n",
       "    <tr>\n",
       "      <td>9</td>\n",
       "      <td>2020-02-25</td>\n",
       "      <td>British fintech Revolut hits $5.5 billion valu...</td>\n",
       "      <td>/article/us-revolut-fundraising/british-fintec...</td>\n",
       "    </tr>\n",
       "  </tbody>\n",
       "</table>\n",
       "</div>"
      ],
      "text/plain": [
       "        Date                                              Title  \\\n",
       "0 2020-03-04  India's top court strikes down RBI banking ban...   \n",
       "1 2020-03-03  Facebook to revamp its digital currency plans:...   \n",
       "2 2020-03-03  U.S. charges two Chinese nationals with helpin...   \n",
       "3 2020-03-03  Is it a currency? A commodity? Bitcoin has an ...   \n",
       "4 2020-03-03  \"Sharia fintech\": Startups race to tap Indones...   \n",
       "5 2020-03-02  Robinhood trading app out of service on day of...   \n",
       "6 2020-02-28  CoronaCoin: crypto developers seize on coronav...   \n",
       "7 2020-02-27  Fintech venture firm Anthemis raises new $90 m...   \n",
       "8 2020-02-27  BOJ's Amamiya calls for more scrutiny in issui...   \n",
       "9 2020-02-25  British fintech Revolut hits $5.5 billion valu...   \n",
       "\n",
       "                                                 Url  \n",
       "0  /article/us-india-cryptocurrency/indias-top-co...  \n",
       "1  /article/us-facebook-cryptocurrency/facebook-t...  \n",
       "2  /article/us-northkorea-usa-cryptocurrency/u-s-...  \n",
       "3  /article/us-crypto-currencies/is-it-a-currency...  \n",
       "4  /article/us-indonesia-digitalpayments-islam/sh...  \n",
       "5  /article/us-fintech-robinhood-trading/robinhoo...  \n",
       "6  /article/us-china-health-crypto-currency/coron...  \n",
       "7  /article/us-anthemis-fund/fintech-venture-firm...  \n",
       "8  /article/us-japan-economy-boj-digital/bojs-ama...  \n",
       "9  /article/us-revolut-fundraising/british-fintec...  "
      ]
     },
     "execution_count": 78,
     "metadata": {},
     "output_type": "execute_result"
    }
   ],
   "source": [
    "df = pd.DataFrame.from_dict({'Date':date,'Title':title,'Url':url},orient='index').transpose().to_csv('HW3_Group15.csv',index=False, encoding='utf-8')\n",
    "\n",
    "df = pd.read_csv('HW3_Group15.csv',parse_dates=['Date'], encoding='utf-8')\n",
    "\n",
    "df"
   ]
  },
  {
   "cell_type": "markdown",
   "metadata": {},
   "source": [
    "##### Q5 method 2"
   ]
  },
  {
   "cell_type": "code",
   "execution_count": 38,
   "metadata": {},
   "outputs": [],
   "source": [
    "results = soup.find_all('div',attrs={'class':'news-headline-list'})\n",
    "\n",
    "records = []\n",
    "\n",
    "for i in results:\n",
    "    date = str(i.find('span')).replace('<span class=\"timestamp\">','').replace('</span>','')\n",
    "    title = i.find('h3',attrs={'class':'story-title'}).contents[-1][9:]\n",
    "    url = i.find('a')['href']\n",
    "    records.append((date,title,url))"
   ]
  },
  {
   "cell_type": "code",
   "execution_count": 37,
   "metadata": {},
   "outputs": [
    {
     "data": {
      "text/html": [
       "<div>\n",
       "<style scoped>\n",
       "    .dataframe tbody tr th:only-of-type {\n",
       "        vertical-align: middle;\n",
       "    }\n",
       "\n",
       "    .dataframe tbody tr th {\n",
       "        vertical-align: top;\n",
       "    }\n",
       "\n",
       "    .dataframe thead th {\n",
       "        text-align: right;\n",
       "    }\n",
       "</style>\n",
       "<table border=\"1\" class=\"dataframe\">\n",
       "  <thead>\n",
       "    <tr style=\"text-align: right;\">\n",
       "      <th></th>\n",
       "      <th>Date</th>\n",
       "      <th>Title</th>\n",
       "      <th>Url</th>\n",
       "    </tr>\n",
       "  </thead>\n",
       "  <tbody>\n",
       "    <tr>\n",
       "      <td>0</td>\n",
       "      <td>Mar 04 2020</td>\n",
       "      <td>India's top court strikes down RBI banking ban...</td>\n",
       "      <td>/article/us-india-cryptocurrency/indias-top-co...</td>\n",
       "    </tr>\n",
       "    <tr>\n",
       "      <td>1</td>\n",
       "      <td>None</td>\n",
       "      <td>Sanders captures North Dakota, but Biden still...</td>\n",
       "      <td>/article/us-usa-election/sanders-captures-nort...</td>\n",
       "    </tr>\n",
       "  </tbody>\n",
       "</table>\n",
       "</div>"
      ],
      "text/plain": [
       "          Date                                              Title  \\\n",
       "0  Mar 04 2020  India's top court strikes down RBI banking ban...   \n",
       "1         None  Sanders captures North Dakota, but Biden still...   \n",
       "\n",
       "                                                 Url  \n",
       "0  /article/us-india-cryptocurrency/indias-top-co...  \n",
       "1  /article/us-usa-election/sanders-captures-nort...  "
      ]
     },
     "execution_count": 37,
     "metadata": {},
     "output_type": "execute_result"
    }
   ],
   "source": [
    "df = pd.DataFrame(records, columns=['Date','Title','Url']).to_csv('HW3_Group15.csv',index=False, encoding='utf-8')\n",
    "\n",
    "df = pd.read_csv('HW3_Group15.csv',parse_dates=['Date'], encoding='utf-8')\n",
    "df"
   ]
  },
  {
   "cell_type": "code",
   "execution_count": 65,
   "metadata": {},
   "outputs": [],
   "source": [
    "results = soup.find('div',attrs={'class':'news-headline-list'})('h3',attrs={'class':'story-title'})\n",
    "\n",
    "records = [i.text.strip() for i in results]\n"
   ]
  },
  {
   "cell_type": "code",
   "execution_count": 66,
   "metadata": {},
   "outputs": [
    {
     "data": {
      "text/html": [
       "<div>\n",
       "<style scoped>\n",
       "    .dataframe tbody tr th:only-of-type {\n",
       "        vertical-align: middle;\n",
       "    }\n",
       "\n",
       "    .dataframe tbody tr th {\n",
       "        vertical-align: top;\n",
       "    }\n",
       "\n",
       "    .dataframe thead th {\n",
       "        text-align: right;\n",
       "    }\n",
       "</style>\n",
       "<table border=\"1\" class=\"dataframe\">\n",
       "  <thead>\n",
       "    <tr style=\"text-align: right;\">\n",
       "      <th></th>\n",
       "      <th>Title</th>\n",
       "    </tr>\n",
       "  </thead>\n",
       "  <tbody>\n",
       "    <tr>\n",
       "      <td>0</td>\n",
       "      <td>India's top court strikes down RBI banking ban...</td>\n",
       "    </tr>\n",
       "    <tr>\n",
       "      <td>1</td>\n",
       "      <td>Facebook to revamp its digital currency plans:...</td>\n",
       "    </tr>\n",
       "    <tr>\n",
       "      <td>2</td>\n",
       "      <td>U.S. charges two Chinese nationals with helpin...</td>\n",
       "    </tr>\n",
       "    <tr>\n",
       "      <td>3</td>\n",
       "      <td>Is it a currency? A commodity? Bitcoin has an ...</td>\n",
       "    </tr>\n",
       "    <tr>\n",
       "      <td>4</td>\n",
       "      <td>\"Sharia fintech\": Startups race to tap Indones...</td>\n",
       "    </tr>\n",
       "    <tr>\n",
       "      <td>5</td>\n",
       "      <td>Robinhood trading app out of service on day of...</td>\n",
       "    </tr>\n",
       "    <tr>\n",
       "      <td>6</td>\n",
       "      <td>CoronaCoin: crypto developers seize on coronav...</td>\n",
       "    </tr>\n",
       "    <tr>\n",
       "      <td>7</td>\n",
       "      <td>Fintech venture firm Anthemis raises new $90 m...</td>\n",
       "    </tr>\n",
       "    <tr>\n",
       "      <td>8</td>\n",
       "      <td>BOJ's Amamiya calls for more scrutiny in issui...</td>\n",
       "    </tr>\n",
       "    <tr>\n",
       "      <td>9</td>\n",
       "      <td>British fintech Revolut hits $5.5 billion valu...</td>\n",
       "    </tr>\n",
       "  </tbody>\n",
       "</table>\n",
       "</div>"
      ],
      "text/plain": [
       "                                               Title\n",
       "0  India's top court strikes down RBI banking ban...\n",
       "1  Facebook to revamp its digital currency plans:...\n",
       "2  U.S. charges two Chinese nationals with helpin...\n",
       "3  Is it a currency? A commodity? Bitcoin has an ...\n",
       "4  \"Sharia fintech\": Startups race to tap Indones...\n",
       "5  Robinhood trading app out of service on day of...\n",
       "6  CoronaCoin: crypto developers seize on coronav...\n",
       "7  Fintech venture firm Anthemis raises new $90 m...\n",
       "8  BOJ's Amamiya calls for more scrutiny in issui...\n",
       "9  British fintech Revolut hits $5.5 billion valu..."
      ]
     },
     "execution_count": 66,
     "metadata": {},
     "output_type": "execute_result"
    }
   ],
   "source": [
    "df = pd.DataFrame(records, columns=['Title']).to_csv('HW3_Group15.csv',index=False, encoding='utf-8')\n",
    "\n",
    "df = pd.read_csv('HW3_Group15.csv', encoding='utf-8')\n",
    "\n",
    "df"
   ]
  },
  {
   "cell_type": "code",
   "execution_count": null,
   "metadata": {},
   "outputs": [],
   "source": []
  }
 ],
 "metadata": {
  "kernelspec": {
   "display_name": "Python 3",
   "language": "python",
   "name": "python3"
  },
  "language_info": {
   "codemirror_mode": {
    "name": "ipython",
    "version": 3
   },
   "file_extension": ".py",
   "mimetype": "text/x-python",
   "name": "python",
   "nbconvert_exporter": "python",
   "pygments_lexer": "ipython3",
   "version": "3.8.3"
  }
 },
 "nbformat": 4,
 "nbformat_minor": 4
}
